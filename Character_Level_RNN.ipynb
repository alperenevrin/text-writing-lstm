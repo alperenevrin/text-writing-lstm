{
 "cells": [
  {
   "cell_type": "markdown",
   "metadata": {},
   "source": [
    "# Character-Level LSTM in PyTorch\n",
    "\n",
    "In this notebook, I'll construct a character-level LSTM with PyTorch. The network will train character by character on some text, then generate new text character by character. As an example, I will train on Anna Karenina. **This model will be able to generate new text based on the text from the book!**\n",
    "\n",
    "This network is based off of Andrej Karpathy's [post on RNNs](http://karpathy.github.io/2015/05/21/rnn-effectiveness/) and [implementation in Torch](https://github.com/karpathy/char-rnn). Below is the general architecture of the character-wise RNN.\n",
    "\n",
    "<img src=\"assets/charseq.jpeg\" width=\"500\">"
   ]
  },
  {
   "cell_type": "markdown",
   "metadata": {},
   "source": [
    "First let's load in our required resources for data loading and model creation."
   ]
  },
  {
   "cell_type": "code",
   "execution_count": 1,
   "metadata": {
    "collapsed": true
   },
   "outputs": [],
   "source": [
    "import numpy as np\n",
    "import torch\n",
    "from torch import nn\n",
    "import torch.nn.functional as F"
   ]
  },
  {
   "cell_type": "markdown",
   "metadata": {},
   "source": [
    "## Load in Data\n",
    "\n",
    "Then, we'll load the Anna Karenina text file and convert it into integers for our network to use. "
   ]
  },
  {
   "cell_type": "code",
   "execution_count": 2,
   "metadata": {
    "collapsed": true
   },
   "outputs": [],
   "source": [
    "# open text file and read in data as `text`\n",
    "with open('data/anna.txt', 'r') as f:\n",
    "    text = f.read()"
   ]
  },
  {
   "cell_type": "markdown",
   "metadata": {},
   "source": [
    "Let's check out the first 100 characters, make sure everything is peachy. According to the [American Book Review](http://americanbookreview.org/100bestlines.asp), this is the 6th best first line of a book ever."
   ]
  },
  {
   "cell_type": "code",
   "execution_count": 3,
   "metadata": {
    "collapsed": true
   },
   "outputs": [
    {
     "data": {
      "text/plain": [
       "'Chapter 1\\n\\n\\nHappy families are all alike; every unhappy family is unhappy in its own\\nway.\\n\\nEverythin'"
      ]
     },
     "execution_count": 3,
     "metadata": {},
     "output_type": "execute_result"
    }
   ],
   "source": [
    "text[:100]"
   ]
  },
  {
   "cell_type": "markdown",
   "metadata": {},
   "source": [
    "### Tokenization\n",
    "\n",
    "In the cells, below, I'm creating a couple of **dictionaries** to convert the characters to and from integers. Encoding the characters as integers makes it easier to use as input in the network."
   ]
  },
  {
   "cell_type": "code",
   "execution_count": 4,
   "metadata": {
    "collapsed": true
   },
   "outputs": [],
   "source": [
    "# encode the text and map each character to an integer and vice versa\n",
    "\n",
    "# we create two dictionaries:\n",
    "# 1. int2char, which maps integers to characters\n",
    "# 2. char2int, which maps characters to unique integers\n",
    "chars = tuple(set(text))\n",
    "int2char = dict(enumerate(chars))\n",
    "char2int = {ch: ii for ii, ch in int2char.items()}\n",
    "\n",
    "# encode the text\n",
    "encoded = np.array([char2int[ch] for ch in text])"
   ]
  },
  {
   "cell_type": "markdown",
   "metadata": {},
   "source": [
    "And we can see those same characters from above, encoded as integers."
   ]
  },
  {
   "cell_type": "code",
   "execution_count": 5,
   "metadata": {
    "collapsed": true
   },
   "outputs": [
    {
     "data": {
      "text/plain": [
       "array([10, 59, 13, 75, 79, 72, 57, 69,  9, 27, 27, 27, 46, 13, 75, 75,  0,\n",
       "       69, 49, 13, 22,  7, 78,  7, 72, 50, 69, 13, 57, 72, 69, 13, 78, 78,\n",
       "       69, 13, 78,  7, 15, 72, 47, 69, 72, 74, 72, 57,  0, 69, 16, 26, 59,\n",
       "       13, 75, 75,  0, 69, 49, 13, 22,  7, 78,  0, 69,  7, 50, 69, 16, 26,\n",
       "       59, 13, 75, 75,  0, 69,  7, 26, 69,  7, 79, 50, 69, 55, 37, 26, 27,\n",
       "       37, 13,  0,  8, 27, 27, 76, 74, 72, 57,  0, 79, 59,  7, 26])"
      ]
     },
     "execution_count": 5,
     "metadata": {},
     "output_type": "execute_result"
    }
   ],
   "source": [
    "encoded[:100]"
   ]
  },
  {
   "cell_type": "markdown",
   "metadata": {},
   "source": [
    "## Pre-processing the data\n",
    "\n",
    "As you can see in our char-RNN image above, our LSTM expects an input that is **one-hot encoded** meaning that each character is converted into an integer (via our created dictionary) and *then* converted into a column vector where only it's corresponding integer index will have the value of 1 and the rest of the vector will be filled with 0's. Since we're one-hot encoding the data, let's make a function to do that!\n"
   ]
  },
  {
   "cell_type": "code",
   "execution_count": 6,
   "metadata": {
    "collapsed": true
   },
   "outputs": [],
   "source": [
    "def one_hot_encode(arr, n_labels):\n",
    "    \n",
    "    # Initialize the encoded array\n",
    "    one_hot = np.zeros((arr.size, n_labels), dtype=np.float32)\n",
    "    \n",
    "    # Fill the appropriate elements with ones\n",
    "    one_hot[np.arange(one_hot.shape[0]), arr.flatten()] = 1.\n",
    "    \n",
    "    # Finally reshape it to get back to the original array\n",
    "    one_hot = one_hot.reshape((*arr.shape, n_labels))\n",
    "    \n",
    "    return one_hot"
   ]
  },
  {
   "cell_type": "code",
   "execution_count": 7,
   "metadata": {
    "collapsed": true
   },
   "outputs": [
    {
     "name": "stdout",
     "output_type": "stream",
     "text": [
      "[[[0. 0. 0. 1. 0. 0. 0. 0.]\n",
      "  [0. 0. 0. 0. 0. 1. 0. 0.]\n",
      "  [0. 1. 0. 0. 0. 0. 0. 0.]]]\n"
     ]
    }
   ],
   "source": [
    "# check that the function works as expected\n",
    "test_seq = np.array([[3, 5, 1]])\n",
    "one_hot = one_hot_encode(test_seq, 8)\n",
    "\n",
    "print(one_hot)"
   ]
  },
  {
   "cell_type": "markdown",
   "metadata": {},
   "source": [
    "## Making training mini-batches\n",
    "\n",
    "\n",
    "To train on this data, we also want to create mini-batches for training. Remember that we want our batches to be multiple sequences of some desired number of sequence steps. Considering a simple example, our batches would look like this:\n",
    "\n",
    "<img src=\"assets/sequence_batching@1x.png\" width=500px>\n",
    "\n",
    "\n",
    "<br>\n",
    "\n",
    "In this example, we'll take the encoded characters (passed in as the `arr` parameter) and split them into multiple sequences, given by `batch_size`. Each of our sequences will be `seq_length` long.\n",
    "\n",
    "### Creating Batches\n",
    "\n",
    "**1. The first thing we need to do is discard some of the text so we only have completely full mini-batches. **\n",
    "\n",
    "Each batch contains $N \\times M$ characters, where $N$ is the batch size (the number of sequences in a batch) and $M$ is the seq_length or number of time steps in a sequence. Then, to get the total number of batches, $K$, that we can make from the array `arr`, you divide the length of `arr` by the number of characters per batch. Once you know the number of batches, you can get the total number of characters to keep from `arr`, $N * M * K$.\n",
    "\n",
    "**2. After that, we need to split `arr` into $N$ batches. ** \n",
    "\n",
    "You can do this using `arr.reshape(size)` where `size` is a tuple containing the dimensions sizes of the reshaped array. We know we want $N$ sequences in a batch, so let's make that the size of the first dimension. For the second dimension, you can use `-1` as a placeholder in the size, it'll fill up the array with the appropriate data for you. After this, you should have an array that is $N \\times (M * K)$.\n",
    "\n",
    "**3. Now that we have this array, we can iterate through it to get our mini-batches. **\n",
    "\n",
    "The idea is each batch is a $N \\times M$ window on the $N \\times (M * K)$ array. For each subsequent batch, the window moves over by `seq_length`. We also want to create both the input and target arrays. Remember that the targets are just the inputs shifted over by one character. The way I like to do this window is use `range` to take steps of size `n_steps` from $0$ to `arr.shape[1]`, the total number of tokens in each sequence. That way, the integers you get from `range` always point to the start of a batch, and each window is `seq_length` wide.\n",
    "\n",
    "> **TODO:** Write the code for creating batches in the function below. The exercises in this notebook _will not be easy_. I've provided a notebook with solutions alongside this notebook. If you get stuck, checkout the solutions. The most important thing is that you don't copy and paste the code into here, **type out the solution code yourself.**"
   ]
  },
  {
   "cell_type": "code",
   "execution_count": 8,
   "metadata": {
    "collapsed": true
   },
   "outputs": [],
   "source": [
    "def get_batches(arr, batch_size, seq_length):\n",
    "    '''Create a generator that returns batches of size\n",
    "       batch_size x seq_length from arr.\n",
    "       \n",
    "       Arguments\n",
    "       ---------\n",
    "       arr: Array you want to make batches from\n",
    "       batch_size: Batch size, the number of sequences per batch\n",
    "       seq_length: Number of encoded chars in a sequence\n",
    "    '''\n",
    "    \n",
    "    ## Get the number of batches we can make\n",
    "    n_batches = len(arr) // (batch_size * seq_length)\n",
    "    \n",
    "    ## Keep only enough characters to make full batches\n",
    "    arr = arr[:n_batches * batch_size * seq_length]\n",
    "    \n",
    "    #Reshape into batch_size rows\n",
    "    arr = arr.reshape((batch_size, -1))\n",
    "    \n",
    "    ## TODO: Iterate over the batches using a window of size seq_length\n",
    "    for n in range(0, arr.shape[1], seq_length):\n",
    "        # The features\n",
    "        x = arr[:, n:n+seq_length]\n",
    "        # The targets, shifted by one\n",
    "        y = arr[:, n+1:n+1+seq_length]\n",
    "        #foe the last batch, an extra step is needed\n",
    "        if x.size != y.size:\n",
    "            #y[:, :-1], y[:, -1] = x[:, 1:], arr[:, 0]\n",
    "            y = np.append(y, arr[:,0].reshape((-1,1)), axis=1)\n",
    "        yield x, y"
   ]
  },
  {
   "cell_type": "markdown",
   "metadata": {},
   "source": [
    "### Test Your Implementation\n",
    "\n",
    "Now I'll make some data sets and we can check out what's going on as we batch data. Here, as an example, I'm going to use a batch size of 8 and 50 sequence steps."
   ]
  },
  {
   "cell_type": "code",
   "execution_count": 9,
   "metadata": {
    "collapsed": true
   },
   "outputs": [],
   "source": [
    "batches = get_batches(encoded, 8, 50)\n",
    "x, y = next(batches)"
   ]
  },
  {
   "cell_type": "code",
   "execution_count": 10,
   "metadata": {
    "collapsed": true
   },
   "outputs": [
    {
     "name": "stdout",
     "output_type": "stream",
     "text": [
      "x\n",
      " [[10 59 13 75 79 72 57 69  9 27]\n",
      " [50 55 26 69 79 59 13 79 69 13]\n",
      " [72 26 20 69 55 57 69 13 69 49]\n",
      " [50 69 79 59 72 69 58 59  7 72]\n",
      " [69 50 13 37 69 59 72 57 69 79]\n",
      " [58 16 50 50  7 55 26 69 13 26]\n",
      " [69 12 26 26 13 69 59 13 20 69]\n",
      " [11 56 78 55 26 50 15  0  8 69]]\n",
      "\n",
      "y\n",
      " [[59 13 75 79 72 57 69  9 27 27]\n",
      " [55 26 69 79 59 13 79 69 13 79]\n",
      " [26 20 69 55 57 69 13 69 49 55]\n",
      " [69 79 59 72 69 58 59  7 72 49]\n",
      " [50 13 37 69 59 72 57 69 79 72]\n",
      " [16 50 50  7 55 26 69 13 26 20]\n",
      " [12 26 26 13 69 59 13 20 69 50]\n",
      " [56 78 55 26 50 15  0  8 69 71]]\n"
     ]
    }
   ],
   "source": [
    "# printing out the first 10 items in a sequence\n",
    "print('x\\n', x[:10, :10])\n",
    "print('\\ny\\n', y[:10, :10])"
   ]
  },
  {
   "cell_type": "markdown",
   "metadata": {},
   "source": [
    "If you implemented `get_batches` correctly, the above output should look something like \n",
    "```\n",
    "x\n",
    " [[25  8 60 11 45 27 28 73  1  2]\n",
    " [17  7 20 73 45  8 60 45 73 60]\n",
    " [27 20 80 73  7 28 73 60 73 65]\n",
    " [17 73 45  8 27 73 66  8 46 27]\n",
    " [73 17 60 12 73  8 27 28 73 45]\n",
    " [66 64 17 17 46  7 20 73 60 20]\n",
    " [73 76 20 20 60 73  8 60 80 73]\n",
    " [47 35 43  7 20 17 24 50 37 73]]\n",
    "\n",
    "y\n",
    " [[ 8 60 11 45 27 28 73  1  2  2]\n",
    " [ 7 20 73 45  8 60 45 73 60 45]\n",
    " [20 80 73  7 28 73 60 73 65  7]\n",
    " [73 45  8 27 73 66  8 46 27 65]\n",
    " [17 60 12 73  8 27 28 73 45 27]\n",
    " [64 17 17 46  7 20 73 60 20 80]\n",
    " [76 20 20 60 73  8 60 80 73 17]\n",
    " [35 43  7 20 17 24 50 37 73 36]]\n",
    " ```\n",
    " although the exact numbers may be different. Check to make sure the data is shifted over one step for `y`."
   ]
  },
  {
   "cell_type": "markdown",
   "metadata": {},
   "source": [
    "---\n",
    "## Defining the network with PyTorch\n",
    "\n",
    "Below is where you'll define the network.\n",
    "\n",
    "<img src=\"assets/charRNN.png\" width=500px>\n",
    "\n",
    "Next, you'll use PyTorch to define the architecture of the network. We start by defining the layers and operations we want. Then, define a method for the forward pass. You've also been given a method for predicting characters."
   ]
  },
  {
   "cell_type": "markdown",
   "metadata": {},
   "source": [
    "### Model Structure\n",
    "\n",
    "In `__init__` the suggested structure is as follows:\n",
    "* Create and store the necessary dictionaries (this has been done for you)\n",
    "* Define an LSTM layer that takes as params: an input size (the number of characters), a hidden layer size `n_hidden`, a number of layers `n_layers`, a dropout probability `drop_prob`, and a batch_first boolean (True, since we are batching)\n",
    "* Define a dropout layer with `drop_prob`\n",
    "* Define a fully-connected layer with params: input size `n_hidden` and output size (the number of characters)\n",
    "* Finally, initialize the weights (again, this has been given)\n",
    "\n",
    "Note that some parameters have been named and given in the `__init__` function, and we use them and store them by doing something like `self.drop_prob = drop_prob`."
   ]
  },
  {
   "cell_type": "markdown",
   "metadata": {},
   "source": [
    "---\n",
    "### LSTM Inputs/Outputs\n",
    "\n",
    "You can create a basic [LSTM layer](https://pytorch.org/docs/stable/nn.html#lstm) as follows\n",
    "\n",
    "```python\n",
    "self.lstm = nn.LSTM(input_size, n_hidden, n_layers, \n",
    "                            dropout=drop_prob, batch_first=True)\n",
    "```\n",
    "\n",
    "where `input_size` is the number of characters this cell expects to see as sequential input, and `n_hidden` is the number of units in the hidden layers in the cell. And we can add dropout by adding a dropout parameter with a specified probability; this will automatically add dropout to the inputs or outputs. Finally, in the `forward` function, we can stack up the LSTM cells into layers using `.view`. With this, you pass in a list of cells and it will send the output of one cell into the next cell.\n",
    "\n",
    "We also need to create an initial hidden state of all zeros. This is done like so\n",
    "\n",
    "```python\n",
    "self.init_hidden()\n",
    "```"
   ]
  },
  {
   "cell_type": "code",
   "execution_count": 11,
   "metadata": {
    "collapsed": true
   },
   "outputs": [
    {
     "name": "stdout",
     "output_type": "stream",
     "text": [
      "No GPU available, training on CPU; consider making n_epochs very small.\n"
     ]
    }
   ],
   "source": [
    "# check if GPU is available\n",
    "train_on_gpu = torch.cuda.is_available()\n",
    "if(train_on_gpu):\n",
    "    print('Training on GPU!')\n",
    "else: \n",
    "    print('No GPU available, training on CPU; consider making n_epochs very small.')"
   ]
  },
  {
   "cell_type": "code",
   "execution_count": 12,
   "metadata": {
    "collapsed": true
   },
   "outputs": [],
   "source": [
    "class CharRNN(nn.Module):\n",
    "    \n",
    "    def __init__(self, tokens, n_hidden=256, n_layers=2,\n",
    "                               drop_prob=0.5, lr=0.001):\n",
    "        super().__init__()\n",
    "        self.drop_prob = drop_prob\n",
    "        self.n_layers = n_layers\n",
    "        self.n_hidden = n_hidden\n",
    "        self.lr = lr\n",
    "        \n",
    "        # creating character dictionaries\n",
    "        self.chars = tokens\n",
    "        self.int2char = dict(enumerate(self.chars))\n",
    "        self.char2int = {ch: ii for ii, ch in self.int2char.items()}\n",
    "        \n",
    "        ## TODO: define the layers of the model\n",
    "        self.lstm = nn.LSTM(len(self.chars), n_hidden, n_layers,dropout = drop_prob, batch_first=True)\n",
    "        self.dropout = nn.Dropout(drop_prob)\n",
    "        self.fc = nn.Linear(n_hidden, len(self.chars))\n",
    "    \n",
    "    def forward(self, x, hidden):\n",
    "        ''' Forward pass through the network. \n",
    "            These inputs are x, and the hidden/cell state `hidden`. '''\n",
    "                \n",
    "        ## TODO: Get the outputs and the new hidden state from the lstm\n",
    "        r_output, hidden = self.lstm(x, hidden)\n",
    "        out = self.dropout(r_output)\n",
    "        out = out.reshape(-1, self.n_hidden)\n",
    "        # return the final output and the hidden state\n",
    "        #put x through the fully-connected layer\n",
    "        out = self.fc(out)\n",
    "        return out, hidden\n",
    "    \n",
    "    \n",
    "    def init_hidden(self, batch_size):\n",
    "        ''' Initializes hidden state '''\n",
    "        # Create two new tensors with sizes n_layers x batch_size x n_hidden,\n",
    "        # initialized to zero, for hidden state and cell state of LSTM\n",
    "        weight = next(self.parameters()).data\n",
    "        \n",
    "        if (train_on_gpu):\n",
    "            hidden = (weight.new(self.n_layers, batch_size, self.n_hidden).zero_().cuda(),\n",
    "                  weight.new(self.n_layers, batch_size, self.n_hidden).zero_().cuda())\n",
    "        else:\n",
    "            hidden = (weight.new(self.n_layers, batch_size, self.n_hidden).zero_(),\n",
    "                      weight.new(self.n_layers, batch_size, self.n_hidden).zero_())\n",
    "        \n",
    "        return hidden\n",
    "        "
   ]
  },
  {
   "cell_type": "markdown",
   "metadata": {},
   "source": [
    "## Time to train\n",
    "\n",
    "The train function gives us the ability to set the number of epochs, the learning rate, and other parameters.\n",
    "\n",
    "Now we can actually train the network.\n",
    "\n",
    "## Hyperparameters\n",
    "\n",
    "Here are the hyperparameters for the network.\n",
    "\n",
    "In defining the model:\n",
    "* `n_hidden` - The number of units in the hidden layers.\n",
    "* `n_layers` - Number of hidden LSTM layers to use.\n",
    "\n",
    "We assume that dropout probability and learning rate will be kept at the default, in this example.\n",
    "\n",
    "And in training:\n",
    "* `batch_size` - Number of sequences running through the network in one pass.\n",
    "* `seq_length` - Number of characters in the sequence the network is trained on. Larger is better typically, the network will learn more long range dependencies. But it takes longer to train. 100 is typically a good number here.\n",
    "* `lr` - Learning rate for training\n",
    "\n",
    "Here's some good advice from Andrej Karpathy on training the network. I'm going to copy it in here for your benefit, but also link to [where it originally came from](https://github.com/karpathy/char-rnn#tips-and-tricks).\n",
    "\n",
    "> ## Tips and Tricks\n",
    "\n",
    ">### Monitoring Validation Loss vs. Training Loss\n",
    ">If you're somewhat new to Machine Learning or Neural Networks it can take a bit of expertise to get good models. The most important quantity to keep track of is the difference between your training loss (printed during training) and the validation loss (printed once in a while when the RNN is run on the validation data (by default every 1000 iterations)). In particular:\n",
    "\n",
    "> - If your training loss is much lower than validation loss then this means the network might be **overfitting**. Solutions to this are to decrease your network size, or to increase dropout. For example you could try dropout of 0.5 and so on.\n",
    "> - If your training/validation loss are about equal then your model is **underfitting**. Increase the size of your model (either number of layers or the raw number of neurons per layer)\n",
    "\n",
    "> ### Approximate number of parameters\n",
    "\n",
    "> The two most important parameters that control the model are `n_hidden` and `n_layers`. I would advise that you always use `n_layers` of either 2/3. The `n_hidden` can be adjusted based on how much data you have. The two important quantities to keep track of here are:\n",
    "\n",
    "> - The number of parameters in your model. This is printed when you start training.\n",
    "> - The size of your dataset. 1MB file is approximately 1 million characters.\n",
    "\n",
    ">These two should be about the same order of magnitude. It's a little tricky to tell. Here are some examples:\n",
    "\n",
    "> - I have a 100MB dataset and I'm using the default parameter settings (which currently print 150K parameters). My data size is significantly larger (100 mil >> 0.15 mil), so I expect to heavily underfit. I am thinking I can comfortably afford to make `n_hidden` larger.\n",
    "> - I have a 10MB dataset and running a 10 million parameter model. I'm slightly nervous and I'm carefully monitoring my validation loss. If it's larger than my training loss then I may want to try to increase dropout a bit and see if that helps the validation loss.\n",
    "\n",
    "> ### Best models strategy\n",
    "\n",
    ">The winning strategy to obtaining very good models (if you have the compute time) is to always err on making the network larger (as large as you're willing to wait for it to compute) and then try different dropout values (between 0,1). Whatever model has the best validation performance (the loss, written in the checkpoint filename, low is good) is the one you should use in the end.\n",
    "\n",
    ">It is very common in deep learning to run many different models with many different hyperparameter settings, and in the end take whatever checkpoint gave the best validation performance.\n",
    "\n",
    ">By the way, the size of your training and validation splits are also parameters. Make sure you have a decent amount of data in your validation set or otherwise the validation performance will be noisy and not very informative.\n",
    "\n"
   ]
  },
  {
   "cell_type": "code",
   "execution_count": 19,
   "metadata": {},
   "outputs": [],
   "source": [
    "#Define the model\n",
    "#number of hidden nodes in LSTM layers, number of layers, drop probability, learning rate\n",
    "n_hidden = 375\n",
    "n_layers=2\n",
    "drop_prob=0.5\n",
    "lr=0.001\n",
    "#batch size (how many batches) and length of sequence\n",
    "batch_size = 120\n",
    "n_seq = 100\n",
    "#how big each input vector is\n",
    "size_input = len(chars)\n",
    "#number of epochs\n",
    "epochs = 50\n",
    "#model name to save\n",
    "model_name = 'rnn_x_epoch.net'\n",
    "#Clipping gradients to prevent exploding gradient values\n",
    "clip=5"
   ]
  },
  {
   "cell_type": "markdown",
   "metadata": {},
   "source": [
    "we'll create the network itself, with some given hyperparameters. "
   ]
  },
  {
   "cell_type": "code",
   "execution_count": 20,
   "metadata": {},
   "outputs": [
    {
     "name": "stdout",
     "output_type": "stream",
     "text": [
      "CharRNN(\n",
      "  (lstm): LSTM(83, 375, num_layers=2, batch_first=True, dropout=0.5)\n",
      "  (dropout): Dropout(p=0.5, inplace=False)\n",
      "  (fc): Linear(in_features=375, out_features=83, bias=True)\n",
      ")\n",
      "No GPU is available\n",
      "There are 1849208 parameters in the model\n",
      "There are 1985223 characters in the text\n"
     ]
    }
   ],
   "source": [
    "\n",
    "#Define the model. Tokens is basically the set of characters\n",
    "model = CharRNN(tokens=chars, n_hidden=n_hidden, n_layers=n_layers, drop_prob=drop_prob, lr=lr)\n",
    "print(model)\n",
    "#move the model to gpu\n",
    "if train_on_gpu:\n",
    "    model.cuda()\n",
    "    print(\"Model is on GPU\")\n",
    "else:\n",
    "    print(\"No GPU is available\")\n",
    "\n",
    "#count parameters\n",
    "model_parameters = filter(lambda p: p.requires_grad, model.parameters())\n",
    "params = sum([np.prod(p.size()) for p in model_parameters])\n",
    "print(\"There are\",params,\"parameters in the model\")\n",
    "print(\"There are\",len(encoded), \"characters in the text\")"
   ]
  },
  {
   "cell_type": "markdown",
   "metadata": {},
   "source": [
    "Below we're using an Adam optimizer and cross entropy loss since we are looking at character class scores as output. We calculate the loss and perform backpropagation, as usual!\n",
    "\n",
    "A couple of details about training: \n",
    ">* Within the batch loop, we detach the hidden state from its history; this time setting it equal to a new *tuple* variable because an LSTM has a hidden state that is a tuple of the hidden and cell states.\n",
    "* We use [`clip_grad_norm_`](https://pytorch.org/docs/stable/_modules/torch/nn/utils/clip_grad.html) to help prevent exploding gradients"
   ]
  },
  {
   "cell_type": "code",
   "execution_count": 15,
   "metadata": {},
   "outputs": [],
   "source": [
    "#Define the optimizer and the loss criterion\n",
    "optim = torch.optim.Adam(model.parameters(), lr=lr)\n",
    "criterion = nn.CrossEntropyLoss()"
   ]
  },
  {
   "cell_type": "code",
   "execution_count": 16,
   "metadata": {},
   "outputs": [],
   "source": [
    "#create validation data\n",
    "val_idx = int(len(encoded)*0.9)\n",
    "data, val_data = encoded[:val_idx], encoded[val_idx:]"
   ]
  },
  {
   "cell_type": "markdown",
   "metadata": {},
   "source": [
    "## Getting the best model\n",
    "\n",
    "To set your hyperparameters to get the best performance, you'll want to watch the training and validation losses. If your training loss is much lower than the validation loss, you're overfitting. Increase regularization (more dropout) or use a smaller network. If the training and validation losses are close, you're underfitting so you can increase the size of the network."
   ]
  },
  {
   "cell_type": "code",
   "execution_count": 28,
   "metadata": {},
   "outputs": [
    {
     "name": "stdout",
     "output_type": "stream",
     "text": [
      "Epoch: 1/50... Loss: 2.8340... Val Loss: 2.8124\n",
      "Validation loss decreased (inf --> 2.8124). Saving Model...\n",
      "Epoch: 2/50... Loss: 2.3203... Val Loss: 2.2863\n",
      "Validation loss decreased (2.8124 --> 2.2863). Saving Model...\n",
      "Epoch: 3/50... Loss: 2.1200... Val Loss: 2.0776\n",
      "Validation loss decreased (2.2863 --> 2.0776). Saving Model...\n",
      "Epoch: 4/50... Loss: 1.9823... Val Loss: 1.9309\n",
      "Validation loss decreased (2.0776 --> 1.9309). Saving Model...\n",
      "Epoch: 5/50... Loss: 1.8734... Val Loss: 1.8125\n",
      "Validation loss decreased (1.9309 --> 1.8125). Saving Model...\n",
      "Epoch: 6/50... Loss: 1.8012... Val Loss: 1.7262\n",
      "Validation loss decreased (1.8125 --> 1.7262). Saving Model...\n",
      "Epoch: 7/50... Loss: 1.7373... Val Loss: 1.6589\n",
      "Validation loss decreased (1.7262 --> 1.6589). Saving Model...\n",
      "Epoch: 8/50... Loss: 1.6933... Val Loss: 1.6096\n",
      "Validation loss decreased (1.6589 --> 1.6096). Saving Model...\n",
      "Epoch: 9/50... Loss: 1.6409... Val Loss: 1.5609\n",
      "Validation loss decreased (1.6096 --> 1.5609). Saving Model...\n",
      "Epoch: 10/50... Loss: 1.5981... Val Loss: 1.5210\n",
      "Validation loss decreased (1.5609 --> 1.5210). Saving Model...\n",
      "Epoch: 11/50... Loss: 1.5765... Val Loss: 1.4949\n",
      "Validation loss decreased (1.5210 --> 1.4949). Saving Model...\n",
      "Epoch: 12/50... Loss: 1.5493... Val Loss: 1.4658\n",
      "Validation loss decreased (1.4949 --> 1.4658). Saving Model...\n",
      "Epoch: 13/50... Loss: 1.5269... Val Loss: 1.4434\n",
      "Validation loss decreased (1.4658 --> 1.4434). Saving Model...\n",
      "Epoch: 14/50... Loss: 1.5061... Val Loss: 1.4247\n",
      "Validation loss decreased (1.4434 --> 1.4247). Saving Model...\n",
      "Epoch: 15/50... Loss: 1.4933... Val Loss: 1.4081\n",
      "Validation loss decreased (1.4247 --> 1.4081). Saving Model...\n",
      "Epoch: 16/50... Loss: 1.4770... Val Loss: 1.3938\n",
      "Validation loss decreased (1.4081 --> 1.3938). Saving Model...\n",
      "Epoch: 17/50... Loss: 1.4623... Val Loss: 1.3793\n",
      "Validation loss decreased (1.3938 --> 1.3793). Saving Model...\n",
      "Epoch: 18/50... Loss: 1.4524... Val Loss: 1.3690\n",
      "Validation loss decreased (1.3793 --> 1.3690). Saving Model...\n",
      "Epoch: 19/50... Loss: 1.4482... Val Loss: 1.3617\n",
      "Validation loss decreased (1.3690 --> 1.3617). Saving Model...\n",
      "Epoch: 20/50... Loss: 1.4347... Val Loss: 1.3516\n",
      "Validation loss decreased (1.3617 --> 1.3516). Saving Model...\n",
      "Epoch: 21/50... Loss: 1.4218... Val Loss: 1.3419\n",
      "Validation loss decreased (1.3516 --> 1.3419). Saving Model...\n",
      "Epoch: 22/50... Loss: 1.4190... Val Loss: 1.3370\n",
      "Validation loss decreased (1.3419 --> 1.3370). Saving Model...\n",
      "Epoch: 23/50... Loss: 1.4115... Val Loss: 1.3292\n",
      "Validation loss decreased (1.3370 --> 1.3292). Saving Model...\n",
      "Epoch: 24/50... Loss: 1.4143... Val Loss: 1.3239\n",
      "Validation loss decreased (1.3292 --> 1.3239). Saving Model...\n",
      "Epoch: 25/50... Loss: 1.4053... Val Loss: 1.3199\n",
      "Validation loss decreased (1.3239 --> 1.3199). Saving Model...\n",
      "Epoch: 26/50... Loss: 1.4075... Val Loss: 1.3183\n",
      "Validation loss decreased (1.3199 --> 1.3183). Saving Model...\n",
      "Epoch: 27/50... Loss: 1.3986... Val Loss: 1.3098\n",
      "Validation loss decreased (1.3183 --> 1.3098). Saving Model...\n",
      "Epoch: 28/50... Loss: 1.3948... Val Loss: 1.3050\n",
      "Validation loss decreased (1.3098 --> 1.3050). Saving Model...\n",
      "Epoch: 29/50... Loss: 1.3942... Val Loss: 1.3017\n",
      "Validation loss decreased (1.3050 --> 1.3017). Saving Model...\n",
      "Epoch: 30/50... Loss: 1.3812... Val Loss: 1.2898\n",
      "Validation loss decreased (1.3017 --> 1.2898). Saving Model...\n",
      "Epoch: 31/50... Loss: 1.3733... Val Loss: 1.2840\n",
      "Validation loss decreased (1.2898 --> 1.2840). Saving Model...\n",
      "Epoch: 32/50... Loss: 1.3720... Val Loss: 1.2805\n",
      "Validation loss decreased (1.2840 --> 1.2805). Saving Model...\n",
      "Epoch: 33/50... Loss: 1.3649... Val Loss: 1.2758\n",
      "Validation loss decreased (1.2805 --> 1.2758). Saving Model...\n",
      "Epoch: 34/50... Loss: 1.3661... Val Loss: 1.2759\n",
      "Epoch: 35/50... Loss: 1.3662... Val Loss: 1.2716\n",
      "Validation loss decreased (1.2758 --> 1.2716). Saving Model...\n",
      "Epoch: 36/50... Loss: 1.3607... Val Loss: 1.2679\n",
      "Validation loss decreased (1.2716 --> 1.2679). Saving Model...\n",
      "Epoch: 37/50... Loss: 1.3585... Val Loss: 1.2673\n",
      "Validation loss decreased (1.2679 --> 1.2673). Saving Model...\n",
      "Epoch: 38/50... Loss: 1.3603... Val Loss: 1.2678\n",
      "Epoch: 39/50... Loss: 1.3655... Val Loss: 1.2695\n",
      "Epoch: 40/50... Loss: 1.3657... Val Loss: 1.2687\n",
      "Epoch: 41/50... Loss: 1.3618... Val Loss: 1.2639\n",
      "Validation loss decreased (1.2673 --> 1.2639). Saving Model...\n",
      "Epoch: 42/50... Loss: 1.3670... Val Loss: 1.2656\n",
      "Epoch: 43/50... Loss: 1.3643... Val Loss: 1.2639\n",
      "Validation loss decreased (1.2639 --> 1.2639). Saving Model...\n",
      "Epoch: 44/50... Loss: 1.3701... Val Loss: 1.2703\n",
      "Epoch: 45/50... Loss: 1.3581... Val Loss: 1.2606\n",
      "Validation loss decreased (1.2639 --> 1.2606). Saving Model...\n",
      "Epoch: 46/50... Loss: 1.3569... Val Loss: 1.2568\n",
      "Validation loss decreased (1.2606 --> 1.2568). Saving Model...\n",
      "Epoch: 47/50... Loss: 1.3600... Val Loss: 1.2599\n",
      "Epoch: 48/50... Loss: 1.3631... Val Loss: 1.2596\n",
      "Epoch: 49/50... Loss: 1.3630... Val Loss: 1.2607\n",
      "Epoch: 50/50... Loss: 1.3653... Val Loss: 1.2626\n"
     ]
    }
   ],
   "source": [
    "#Training Model\n",
    "val_loss_min = np.Inf\n",
    "for e in range(epochs):\n",
    "    train_loss = 0\n",
    "    train_losses = []\n",
    "    #initialize the hidden and cell units\n",
    "    hidden = model.init_hidden(batch_size=batch_size)\n",
    "    model.train()\n",
    "\n",
    "    for x, y in get_batches(data, batch_size=batch_size, seq_length=n_seq):\n",
    "        count += 1\n",
    "\n",
    "        x = torch.from_numpy(one_hot_encode(x, n_labels=size_input))\n",
    "        #apparently, one hot encoding of y is not necessary\n",
    "        #y = torch.from_numpy(one_hot_encode(y, n_labels=size_input)).reshape((-1, size_input))\n",
    "        y = torch.from_numpy(y)\n",
    "\n",
    "        if train_on_gpu:\n",
    "            x, y = x.cuda(), y.cuda()\n",
    "        #hidden data is transformed so that the model does not backpropagate through the hidden values\n",
    "        #this happens because hidden value is an output of the forward method within the model. Weights and outputs are \n",
    "        #backpropagated essentially\n",
    "        hidden = tuple(h.data for h in hidden)\n",
    "        #reset gradients\n",
    "        optim.zero_grad()\n",
    "\n",
    "        output, hidden = model(x, hidden)\n",
    "        #y needs to be converted into long integer format after flattening applied to it\n",
    "        loss = criterion(output, y.reshape(batch_size*n_seq).long())\n",
    "        loss.backward()\n",
    "        # `clip_grad_norm` helps prevent the exploding gradient problem in RNNs / LSTMs.\n",
    "        nn.utils.clip_grad_norm_(model.parameters(), clip)\n",
    "\n",
    "        optim.step()\n",
    "\n",
    "        train_loss = loss.item()\n",
    "        train_losses.append(train_loss)\n",
    "\n",
    "\n",
    "    #MODEL VALIDATION\n",
    "    val_hidden = model.init_hidden(batch_size=batch_size)\n",
    "    val_losses =[]\n",
    "    model.eval()\n",
    "\n",
    "    for x,y in get_batches(val_data, batch_size, n_seq):\n",
    "\n",
    "        x = torch.from_numpy(one_hot_encode(x, n_labels=size_input))\n",
    "        #apparently, one hot encoding of y is not necessary\n",
    "        #y = torch.from_numpy(one_hot_encode(y, n_labels=size_input)).reshape((-1, size_input))\n",
    "        y = torch.from_numpy(y)\n",
    "\n",
    "        if train_on_gpu:\n",
    "            x, y = x.cuda(), y.cuda()\n",
    "\n",
    "        val_hidden = tuple(h.data for h in hidden)\n",
    "        \n",
    "        #reset gradients\n",
    "        optim.zero_grad()\n",
    "\n",
    "        output, hidden = model(x, val_hidden)\n",
    "        #y needs to be converted into long integer format after flattening applied to it\n",
    "        loss = criterion(output, y.reshape(batch_size*n_seq).long())\n",
    "\n",
    "        val_loss = loss.item()\n",
    "        val_losses.append(val_loss)\n",
    "        #if eval_count % 10 == 0:\n",
    "        #    print(eval_count)\n",
    "    av_val_loss_ep = np.mean(np.array(val_losses))\n",
    "\n",
    "    print(\"Epoch: {}/{}...\".format(e+1, epochs),\n",
    "            \"Loss: {:.4f}...\".format(loss.item()),\n",
    "            \"Val Loss: {:.4f}\".format(av_val_loss_ep))\n",
    "    \n",
    "    #saving the model if loss is less than the last\n",
    "    if av_val_loss_ep <= val_loss_min:\n",
    "\n",
    "        print('Validation loss decreased ({:.4f} --> {:.4f}). Saving Model...'.format(\n",
    "            val_loss_min, av_val_loss_ep))\n",
    "\n",
    "        checkpoint = {'n_hidden': model.n_hidden,\n",
    "                'n_layers': model.n_layers,\n",
    "                'state_dict': model.state_dict(),\n",
    "                'tokens': model.chars}\n",
    "        with open(model_name, 'wb') as f:\n",
    "            torch.save(checkpoint, f)\n",
    "\n",
    "        val_loss_min = av_val_loss_ep\n"
   ]
  },
  {
   "cell_type": "markdown",
   "metadata": {},
   "source": [
    "## Checkpoint\n",
    "\n",
    "Last part of the model checks if the validation error is improved and saves the moedl. Here I'm saving the parameters needed to create the same architecture, the hidden layer hyperparameters and the text characters.\n",
    "\n",
    "    if av_val_loss_ep <= val_loss_min:\n",
    "\n",
    "        print('Validation loss decreased ({:.4f} --> {:.4f}). Saving Model...'.format(\n",
    "            val_loss_min, av_val_loss_ep))\n",
    "\n",
    "        checkpoint = {'n_hidden': model.n_hidden,\n",
    "                'n_layers': model.n_layers,\n",
    "                'state_dict': model.state_dict(),\n",
    "                'tokens': model.chars}\n",
    "        with open(model_name, 'wb') as f:\n",
    "            torch.save(checkpoint, f)\n",
    "\n",
    "        val_loss_min = av_val_loss_ep\n",
    "\n",
    "Now loading the best performing model:"
   ]
  },
  {
   "cell_type": "code",
   "execution_count": 17,
   "metadata": {},
   "outputs": [
    {
     "ename": "RuntimeError",
     "evalue": "Attempting to deserialize object on a CUDA device but torch.cuda.is_available() is False. If you are running on a CPU-only machine, please use torch.load with map_location=torch.device('cpu') to map your storages to the CPU.",
     "output_type": "error",
     "traceback": [
      "\u001b[1;31m---------------------------------------------------------------------------\u001b[0m",
      "\u001b[1;31mRuntimeError\u001b[0m                              Traceback (most recent call last)",
      "\u001b[1;32mg:\\My Drive\\Learning Projects\\Udacity\\deep-learning-v2-pytorch-master\\recurrent-neural-networks\\char-rnn\\Character_Level_RNN_Exercise.ipynb Cell 36'\u001b[0m in \u001b[0;36m<cell line: 2>\u001b[1;34m()\u001b[0m\n\u001b[0;32m      <a href='vscode-notebook-cell:/g%3A/My%20Drive/Learning%20Projects/Udacity/deep-learning-v2-pytorch-master/recurrent-neural-networks/char-rnn/Character_Level_RNN_Exercise.ipynb#ch0000060?line=0'>1</a>\u001b[0m \u001b[39m# Here we have loaded in a model that trained \u001b[39;00m\n\u001b[0;32m      <a href='vscode-notebook-cell:/g%3A/My%20Drive/Learning%20Projects/Udacity/deep-learning-v2-pytorch-master/recurrent-neural-networks/char-rnn/Character_Level_RNN_Exercise.ipynb#ch0000060?line=1'>2</a>\u001b[0m \u001b[39mwith\u001b[39;00m \u001b[39mopen\u001b[39m(\u001b[39m'\u001b[39m\u001b[39mrnn_x_epoch.net\u001b[39m\u001b[39m'\u001b[39m, \u001b[39m'\u001b[39m\u001b[39mrb\u001b[39m\u001b[39m'\u001b[39m) \u001b[39mas\u001b[39;00m f:\n\u001b[1;32m----> <a href='vscode-notebook-cell:/g%3A/My%20Drive/Learning%20Projects/Udacity/deep-learning-v2-pytorch-master/recurrent-neural-networks/char-rnn/Character_Level_RNN_Exercise.ipynb#ch0000060?line=2'>3</a>\u001b[0m     checkpoint \u001b[39m=\u001b[39m torch\u001b[39m.\u001b[39;49mload(f)\n\u001b[0;32m      <a href='vscode-notebook-cell:/g%3A/My%20Drive/Learning%20Projects/Udacity/deep-learning-v2-pytorch-master/recurrent-neural-networks/char-rnn/Character_Level_RNN_Exercise.ipynb#ch0000060?line=4'>5</a>\u001b[0m model \u001b[39m=\u001b[39m CharRNN(checkpoint[\u001b[39m'\u001b[39m\u001b[39mtokens\u001b[39m\u001b[39m'\u001b[39m], n_hidden\u001b[39m=\u001b[39mcheckpoint[\u001b[39m'\u001b[39m\u001b[39mn_hidden\u001b[39m\u001b[39m'\u001b[39m], n_layers\u001b[39m=\u001b[39mcheckpoint[\u001b[39m'\u001b[39m\u001b[39mn_layers\u001b[39m\u001b[39m'\u001b[39m])\n\u001b[0;32m      <a href='vscode-notebook-cell:/g%3A/My%20Drive/Learning%20Projects/Udacity/deep-learning-v2-pytorch-master/recurrent-neural-networks/char-rnn/Character_Level_RNN_Exercise.ipynb#ch0000060?line=5'>6</a>\u001b[0m model\u001b[39m.\u001b[39mload_state_dict(checkpoint[\u001b[39m'\u001b[39m\u001b[39mstate_dict\u001b[39m\u001b[39m'\u001b[39m])\n",
      "File \u001b[1;32mc:\\Users\\alper\\anaconda3\\envs\\myenv\\lib\\site-packages\\torch\\serialization.py:712\u001b[0m, in \u001b[0;36mload\u001b[1;34m(f, map_location, pickle_module, **pickle_load_args)\u001b[0m\n\u001b[0;32m    <a href='file:///c%3A/Users/alper/anaconda3/envs/myenv/lib/site-packages/torch/serialization.py?line=709'>710</a>\u001b[0m             opened_file\u001b[39m.\u001b[39mseek(orig_position)\n\u001b[0;32m    <a href='file:///c%3A/Users/alper/anaconda3/envs/myenv/lib/site-packages/torch/serialization.py?line=710'>711</a>\u001b[0m             \u001b[39mreturn\u001b[39;00m torch\u001b[39m.\u001b[39mjit\u001b[39m.\u001b[39mload(opened_file)\n\u001b[1;32m--> <a href='file:///c%3A/Users/alper/anaconda3/envs/myenv/lib/site-packages/torch/serialization.py?line=711'>712</a>\u001b[0m         \u001b[39mreturn\u001b[39;00m _load(opened_zipfile, map_location, pickle_module, \u001b[39m*\u001b[39;49m\u001b[39m*\u001b[39;49mpickle_load_args)\n\u001b[0;32m    <a href='file:///c%3A/Users/alper/anaconda3/envs/myenv/lib/site-packages/torch/serialization.py?line=712'>713</a>\u001b[0m \u001b[39mreturn\u001b[39;00m _legacy_load(opened_file, map_location, pickle_module, \u001b[39m*\u001b[39m\u001b[39m*\u001b[39mpickle_load_args)\n",
      "File \u001b[1;32mc:\\Users\\alper\\anaconda3\\envs\\myenv\\lib\\site-packages\\torch\\serialization.py:1046\u001b[0m, in \u001b[0;36m_load\u001b[1;34m(zip_file, map_location, pickle_module, pickle_file, **pickle_load_args)\u001b[0m\n\u001b[0;32m   <a href='file:///c%3A/Users/alper/anaconda3/envs/myenv/lib/site-packages/torch/serialization.py?line=1043'>1044</a>\u001b[0m unpickler \u001b[39m=\u001b[39m UnpicklerWrapper(data_file, \u001b[39m*\u001b[39m\u001b[39m*\u001b[39mpickle_load_args)\n\u001b[0;32m   <a href='file:///c%3A/Users/alper/anaconda3/envs/myenv/lib/site-packages/torch/serialization.py?line=1044'>1045</a>\u001b[0m unpickler\u001b[39m.\u001b[39mpersistent_load \u001b[39m=\u001b[39m persistent_load\n\u001b[1;32m-> <a href='file:///c%3A/Users/alper/anaconda3/envs/myenv/lib/site-packages/torch/serialization.py?line=1045'>1046</a>\u001b[0m result \u001b[39m=\u001b[39m unpickler\u001b[39m.\u001b[39;49mload()\n\u001b[0;32m   <a href='file:///c%3A/Users/alper/anaconda3/envs/myenv/lib/site-packages/torch/serialization.py?line=1047'>1048</a>\u001b[0m torch\u001b[39m.\u001b[39m_utils\u001b[39m.\u001b[39m_validate_loaded_sparse_tensors()\n\u001b[0;32m   <a href='file:///c%3A/Users/alper/anaconda3/envs/myenv/lib/site-packages/torch/serialization.py?line=1049'>1050</a>\u001b[0m \u001b[39mreturn\u001b[39;00m result\n",
      "File \u001b[1;32mc:\\Users\\alper\\anaconda3\\envs\\myenv\\lib\\site-packages\\torch\\serialization.py:1016\u001b[0m, in \u001b[0;36m_load.<locals>.persistent_load\u001b[1;34m(saved_id)\u001b[0m\n\u001b[0;32m   <a href='file:///c%3A/Users/alper/anaconda3/envs/myenv/lib/site-packages/torch/serialization.py?line=1013'>1014</a>\u001b[0m \u001b[39mif\u001b[39;00m key \u001b[39mnot\u001b[39;00m \u001b[39min\u001b[39;00m loaded_storages:\n\u001b[0;32m   <a href='file:///c%3A/Users/alper/anaconda3/envs/myenv/lib/site-packages/torch/serialization.py?line=1014'>1015</a>\u001b[0m     nbytes \u001b[39m=\u001b[39m numel \u001b[39m*\u001b[39m torch\u001b[39m.\u001b[39m_utils\u001b[39m.\u001b[39m_element_size(dtype)\n\u001b[1;32m-> <a href='file:///c%3A/Users/alper/anaconda3/envs/myenv/lib/site-packages/torch/serialization.py?line=1015'>1016</a>\u001b[0m     load_tensor(dtype, nbytes, key, _maybe_decode_ascii(location))\n\u001b[0;32m   <a href='file:///c%3A/Users/alper/anaconda3/envs/myenv/lib/site-packages/torch/serialization.py?line=1017'>1018</a>\u001b[0m \u001b[39mreturn\u001b[39;00m loaded_storages[key]\n",
      "File \u001b[1;32mc:\\Users\\alper\\anaconda3\\envs\\myenv\\lib\\site-packages\\torch\\serialization.py:1001\u001b[0m, in \u001b[0;36m_load.<locals>.load_tensor\u001b[1;34m(dtype, numel, key, location)\u001b[0m\n\u001b[0;32m    <a href='file:///c%3A/Users/alper/anaconda3/envs/myenv/lib/site-packages/torch/serialization.py?line=996'>997</a>\u001b[0m storage \u001b[39m=\u001b[39m zip_file\u001b[39m.\u001b[39mget_storage_from_record(name, numel, torch\u001b[39m.\u001b[39m_UntypedStorage)\u001b[39m.\u001b[39mstorage()\u001b[39m.\u001b[39m_untyped()\n\u001b[0;32m    <a href='file:///c%3A/Users/alper/anaconda3/envs/myenv/lib/site-packages/torch/serialization.py?line=997'>998</a>\u001b[0m \u001b[39m# TODO: Once we decide to break serialization FC, we can\u001b[39;00m\n\u001b[0;32m    <a href='file:///c%3A/Users/alper/anaconda3/envs/myenv/lib/site-packages/torch/serialization.py?line=998'>999</a>\u001b[0m \u001b[39m# stop wrapping with _TypedStorage\u001b[39;00m\n\u001b[0;32m   <a href='file:///c%3A/Users/alper/anaconda3/envs/myenv/lib/site-packages/torch/serialization.py?line=999'>1000</a>\u001b[0m loaded_storages[key] \u001b[39m=\u001b[39m torch\u001b[39m.\u001b[39mstorage\u001b[39m.\u001b[39m_TypedStorage(\n\u001b[1;32m-> <a href='file:///c%3A/Users/alper/anaconda3/envs/myenv/lib/site-packages/torch/serialization.py?line=1000'>1001</a>\u001b[0m     wrap_storage\u001b[39m=\u001b[39mrestore_location(storage, location),\n\u001b[0;32m   <a href='file:///c%3A/Users/alper/anaconda3/envs/myenv/lib/site-packages/torch/serialization.py?line=1001'>1002</a>\u001b[0m     dtype\u001b[39m=\u001b[39mdtype)\n",
      "File \u001b[1;32mc:\\Users\\alper\\anaconda3\\envs\\myenv\\lib\\site-packages\\torch\\serialization.py:176\u001b[0m, in \u001b[0;36mdefault_restore_location\u001b[1;34m(storage, location)\u001b[0m\n\u001b[0;32m    <a href='file:///c%3A/Users/alper/anaconda3/envs/myenv/lib/site-packages/torch/serialization.py?line=173'>174</a>\u001b[0m \u001b[39mdef\u001b[39;00m \u001b[39mdefault_restore_location\u001b[39m(storage, location):\n\u001b[0;32m    <a href='file:///c%3A/Users/alper/anaconda3/envs/myenv/lib/site-packages/torch/serialization.py?line=174'>175</a>\u001b[0m     \u001b[39mfor\u001b[39;00m _, _, fn \u001b[39min\u001b[39;00m _package_registry:\n\u001b[1;32m--> <a href='file:///c%3A/Users/alper/anaconda3/envs/myenv/lib/site-packages/torch/serialization.py?line=175'>176</a>\u001b[0m         result \u001b[39m=\u001b[39m fn(storage, location)\n\u001b[0;32m    <a href='file:///c%3A/Users/alper/anaconda3/envs/myenv/lib/site-packages/torch/serialization.py?line=176'>177</a>\u001b[0m         \u001b[39mif\u001b[39;00m result \u001b[39mis\u001b[39;00m \u001b[39mnot\u001b[39;00m \u001b[39mNone\u001b[39;00m:\n\u001b[0;32m    <a href='file:///c%3A/Users/alper/anaconda3/envs/myenv/lib/site-packages/torch/serialization.py?line=177'>178</a>\u001b[0m             \u001b[39mreturn\u001b[39;00m result\n",
      "File \u001b[1;32mc:\\Users\\alper\\anaconda3\\envs\\myenv\\lib\\site-packages\\torch\\serialization.py:152\u001b[0m, in \u001b[0;36m_cuda_deserialize\u001b[1;34m(obj, location)\u001b[0m\n\u001b[0;32m    <a href='file:///c%3A/Users/alper/anaconda3/envs/myenv/lib/site-packages/torch/serialization.py?line=149'>150</a>\u001b[0m \u001b[39mdef\u001b[39;00m \u001b[39m_cuda_deserialize\u001b[39m(obj, location):\n\u001b[0;32m    <a href='file:///c%3A/Users/alper/anaconda3/envs/myenv/lib/site-packages/torch/serialization.py?line=150'>151</a>\u001b[0m     \u001b[39mif\u001b[39;00m location\u001b[39m.\u001b[39mstartswith(\u001b[39m'\u001b[39m\u001b[39mcuda\u001b[39m\u001b[39m'\u001b[39m):\n\u001b[1;32m--> <a href='file:///c%3A/Users/alper/anaconda3/envs/myenv/lib/site-packages/torch/serialization.py?line=151'>152</a>\u001b[0m         device \u001b[39m=\u001b[39m validate_cuda_device(location)\n\u001b[0;32m    <a href='file:///c%3A/Users/alper/anaconda3/envs/myenv/lib/site-packages/torch/serialization.py?line=152'>153</a>\u001b[0m         \u001b[39mif\u001b[39;00m \u001b[39mgetattr\u001b[39m(obj, \u001b[39m\"\u001b[39m\u001b[39m_torch_load_uninitialized\u001b[39m\u001b[39m\"\u001b[39m, \u001b[39mFalse\u001b[39;00m):\n\u001b[0;32m    <a href='file:///c%3A/Users/alper/anaconda3/envs/myenv/lib/site-packages/torch/serialization.py?line=153'>154</a>\u001b[0m             storage_type \u001b[39m=\u001b[39m \u001b[39mgetattr\u001b[39m(torch\u001b[39m.\u001b[39mcuda, \u001b[39mtype\u001b[39m(obj)\u001b[39m.\u001b[39m\u001b[39m__name__\u001b[39m)\n",
      "File \u001b[1;32mc:\\Users\\alper\\anaconda3\\envs\\myenv\\lib\\site-packages\\torch\\serialization.py:136\u001b[0m, in \u001b[0;36mvalidate_cuda_device\u001b[1;34m(location)\u001b[0m\n\u001b[0;32m    <a href='file:///c%3A/Users/alper/anaconda3/envs/myenv/lib/site-packages/torch/serialization.py?line=132'>133</a>\u001b[0m device \u001b[39m=\u001b[39m torch\u001b[39m.\u001b[39mcuda\u001b[39m.\u001b[39m_utils\u001b[39m.\u001b[39m_get_device_index(location, \u001b[39mTrue\u001b[39;00m)\n\u001b[0;32m    <a href='file:///c%3A/Users/alper/anaconda3/envs/myenv/lib/site-packages/torch/serialization.py?line=134'>135</a>\u001b[0m \u001b[39mif\u001b[39;00m \u001b[39mnot\u001b[39;00m torch\u001b[39m.\u001b[39mcuda\u001b[39m.\u001b[39mis_available():\n\u001b[1;32m--> <a href='file:///c%3A/Users/alper/anaconda3/envs/myenv/lib/site-packages/torch/serialization.py?line=135'>136</a>\u001b[0m     \u001b[39mraise\u001b[39;00m \u001b[39mRuntimeError\u001b[39;00m(\u001b[39m'\u001b[39m\u001b[39mAttempting to deserialize object on a CUDA \u001b[39m\u001b[39m'\u001b[39m\n\u001b[0;32m    <a href='file:///c%3A/Users/alper/anaconda3/envs/myenv/lib/site-packages/torch/serialization.py?line=136'>137</a>\u001b[0m                        \u001b[39m'\u001b[39m\u001b[39mdevice but torch.cuda.is_available() is False. \u001b[39m\u001b[39m'\u001b[39m\n\u001b[0;32m    <a href='file:///c%3A/Users/alper/anaconda3/envs/myenv/lib/site-packages/torch/serialization.py?line=137'>138</a>\u001b[0m                        \u001b[39m'\u001b[39m\u001b[39mIf you are running on a CPU-only machine, \u001b[39m\u001b[39m'\u001b[39m\n\u001b[0;32m    <a href='file:///c%3A/Users/alper/anaconda3/envs/myenv/lib/site-packages/torch/serialization.py?line=138'>139</a>\u001b[0m                        \u001b[39m'\u001b[39m\u001b[39mplease use torch.load with map_location=torch.device(\u001b[39m\u001b[39m\\'\u001b[39;00m\u001b[39mcpu\u001b[39m\u001b[39m\\'\u001b[39;00m\u001b[39m) \u001b[39m\u001b[39m'\u001b[39m\n\u001b[0;32m    <a href='file:///c%3A/Users/alper/anaconda3/envs/myenv/lib/site-packages/torch/serialization.py?line=139'>140</a>\u001b[0m                        \u001b[39m'\u001b[39m\u001b[39mto map your storages to the CPU.\u001b[39m\u001b[39m'\u001b[39m)\n\u001b[0;32m    <a href='file:///c%3A/Users/alper/anaconda3/envs/myenv/lib/site-packages/torch/serialization.py?line=140'>141</a>\u001b[0m device_count \u001b[39m=\u001b[39m torch\u001b[39m.\u001b[39mcuda\u001b[39m.\u001b[39mdevice_count()\n\u001b[0;32m    <a href='file:///c%3A/Users/alper/anaconda3/envs/myenv/lib/site-packages/torch/serialization.py?line=141'>142</a>\u001b[0m \u001b[39mif\u001b[39;00m device \u001b[39m>\u001b[39m\u001b[39m=\u001b[39m device_count:\n",
      "\u001b[1;31mRuntimeError\u001b[0m: Attempting to deserialize object on a CUDA device but torch.cuda.is_available() is False. If you are running on a CPU-only machine, please use torch.load with map_location=torch.device('cpu') to map your storages to the CPU."
     ]
    }
   ],
   "source": [
    "# Here we have loaded in a model that trained \n",
    "with open('rnn_x_epoch.net', 'rb') as f:\n",
    "    checkpoint = torch.load(f)\n",
    "    \n",
    "model = CharRNN(checkpoint['tokens'], n_hidden=checkpoint['n_hidden'], n_layers=checkpoint['n_layers'])\n",
    "model.load_state_dict(checkpoint['state_dict'])"
   ]
  },
  {
   "cell_type": "markdown",
   "metadata": {},
   "source": [
    "---\n",
    "## Making Predictions\n",
    "\n",
    "Now that the model is trained, we'll want to sample from it and make predictions about next characters! To sample, we pass in a character and have the network predict the next character. Then we take that character, pass it back in, and get another predicted character. Just keep doing this and you'll generate a bunch of text!\n",
    "\n",
    "### A note on the `predict`  function\n",
    "\n",
    "The output of our RNN is from a fully-connected layer and it outputs a **distribution of next-character scores**.\n",
    "\n",
    "> To actually get the next character, we apply a softmax function, which gives us a *probability* distribution that we can then sample to predict the next character.\n",
    "\n",
    "### Top K sampling\n",
    "\n",
    "Our predictions come from a categorical probability distribution over all the possible characters. We can make the sample text and make it more reasonable to handle (with less variables) by only considering some $K$ most probable characters. This will prevent the network from giving us completely absurd characters while allowing it to introduce some noise and randomness into the sampled text. Read more about [topk, here](https://pytorch.org/docs/stable/torch.html#torch.topk).\n"
   ]
  },
  {
   "cell_type": "code",
   "execution_count": 67,
   "metadata": {
    "collapsed": true
   },
   "outputs": [],
   "source": [
    "def predict(net, char, h=None, top_k=None):\n",
    "        ''' Given a character, predict the next character.\n",
    "            Returns the predicted character and the hidden state.\n",
    "        '''\n",
    "        \n",
    "        # tensor inputs\n",
    "        x = np.array([[net.char2int[char]]])\n",
    "        x = one_hot_encode(x, len(net.chars))\n",
    "        inputs = torch.from_numpy(x)\n",
    "        \n",
    "        if(train_on_gpu):\n",
    "            inputs = inputs.cuda()\n",
    "        \n",
    "        # detach hidden state from history\n",
    "        h = tuple([each.data for each in h])\n",
    "        # get the output of the model\n",
    "        out, h = net(inputs, h)\n",
    "\n",
    "        # get the character probabilities\n",
    "        p = F.softmax(out, dim=1).data\n",
    "        if(train_on_gpu):\n",
    "            p = p.cpu() # move to cpu\n",
    "        \n",
    "        # get top characters\n",
    "        if top_k is None:\n",
    "            top_ch = np.arange(len(net.chars))\n",
    "        else:\n",
    "            p, top_ch = p.topk(top_k)\n",
    "            top_ch = top_ch.numpy().squeeze()\n",
    "        \n",
    "        # select the likely next character with some element of randomness\n",
    "        p = p.numpy().squeeze()\n",
    "        char = np.random.choice(top_ch, p=p/p.sum())\n",
    "        \n",
    "        # return the encoded value of the predicted char and the hidden state\n",
    "        return net.int2char[char], h"
   ]
  },
  {
   "cell_type": "markdown",
   "metadata": {},
   "source": [
    "### Priming and generating text \n",
    "\n",
    "Typically you'll want to prime the network so you can build up a hidden state. Otherwise the network will start out generating characters at random. In general the first bunch of characters will be a little rough since it hasn't built up a long history of characters to predict from."
   ]
  },
  {
   "cell_type": "code",
   "execution_count": 36,
   "metadata": {
    "collapsed": true
   },
   "outputs": [],
   "source": [
    "def sample(net, size, prime='The', top_k=None):\n",
    "        \n",
    "    if(train_on_gpu):\n",
    "        net.cuda()\n",
    "    else:\n",
    "        net.cpu()\n",
    "    \n",
    "    net.eval() # eval mode\n",
    "    \n",
    "    # First off, run through the prime characters\n",
    "    chars = [ch for ch in prime]\n",
    "    h = net.init_hidden(1)\n",
    "    for ch in prime:\n",
    "        char, h = predict(net, ch, h, top_k=top_k)\n",
    "\n",
    "    chars.append(char)\n",
    "    \n",
    "    # Now pass in the previous character and get a new one\n",
    "    for ii in range(size):\n",
    "        char, h = predict(net, chars[-1], h, top_k=top_k)\n",
    "        chars.append(char)\n",
    "\n",
    "    return ''.join(chars)"
   ]
  },
  {
   "cell_type": "code",
   "execution_count": 39,
   "metadata": {
    "collapsed": true
   },
   "outputs": [
    {
     "name": "stdout",
     "output_type": "stream",
     "text": [
      "Anna, she seen\n",
      "in his brother, and he had not seen a sense of artist, the chief face of the sofience and\n",
      "their husbands all the cander and the man, the princess's face was standing away\n",
      "with her. He came into the carriage.\n",
      "\n",
      "\"I want to give me a left one.....\"\n",
      "\n",
      "\"Yes, I saved it.\"\n",
      "\n",
      "\"Well, thank them is any servant, but it's as she should be to\n",
      "get in, I want to do anything,\" she said so always as it as she wished\n",
      "to be stinding. The crosing a talk of tender such clish and handsome\n",
      "as to the course of sides, to sell attract in a time they wanted to be districtly\n",
      "singered. Bard with a silence should not have so standing before, and she\n",
      "had at the same time in them. Anna was struck the carriage as he\n",
      "went up to him and hurt and do because that to day the cheek had to be\n",
      "converted.\n",
      "\n",
      "He shook the commissionation, had seen him to show its things out of his\n",
      "highest heart, had been to see her. The carriages, who had been builfy in\n",
      "him in a man and her feelings were so as not to believe that\n",
      "he had no\n"
     ]
    },
    {
     "ename": "",
     "evalue": "",
     "output_type": "error",
     "traceback": [
      "\u001b[1;31mThe Kernel crashed while executing code in the the current cell or a previous cell. Please review the code in the cell(s) to identify a possible cause of the failure. Click <a href='https://aka.ms/vscodeJupyterKernelCrash'>here</a> for more info. View Jupyter <a href='command:jupyter.viewOutput'>log</a> for further details."
     ]
    }
   ],
   "source": [
    "print(sample(model, 1000, prime='Anna', top_k=5))"
   ]
  },
  {
   "cell_type": "markdown",
   "metadata": {},
   "source": [
    "## Loading a checkpoint"
   ]
  },
  {
   "cell_type": "code",
   "execution_count": null,
   "metadata": {
    "collapsed": true
   },
   "outputs": [],
   "source": [
    "# Here we have loaded in a model that trained over 20 epochs `rnn_20_epoch.net`\n",
    "with open('rnn_x_epoch.net', 'rb') as f:\n",
    "    checkpoint = torch.load(f)\n",
    "    \n",
    "loaded = CharRNN(checkpoint['tokens'], n_hidden=checkpoint['n_hidden'], n_layers=checkpoint['n_layers'])\n",
    "loaded.load_state_dict(checkpoint['state_dict'])"
   ]
  },
  {
   "cell_type": "code",
   "execution_count": null,
   "metadata": {
    "collapsed": true
   },
   "outputs": [],
   "source": [
    "# Sample using a loaded model\n",
    "print(sample(loaded, 2000, top_k=5, prime=\"And Levin said\"))"
   ]
  },
  {
   "cell_type": "code",
   "execution_count": null,
   "metadata": {
    "collapsed": true
   },
   "outputs": [],
   "source": []
  }
 ],
 "metadata": {
  "interpreter": {
   "hash": "c3c04c0ad3ebc6ab3812db545b124696fd116b5cbb77c76f8b167b4f5be065d0"
  },
  "kernelspec": {
   "display_name": "Python 3.8.12 ('myenv')",
   "language": "python",
   "name": "python3"
  },
  "language_info": {
   "codemirror_mode": {
    "name": "ipython",
    "version": 3
   },
   "file_extension": ".py",
   "mimetype": "text/x-python",
   "name": "python",
   "nbconvert_exporter": "python",
   "pygments_lexer": "ipython3",
   "version": "3.8.12"
  }
 },
 "nbformat": 4,
 "nbformat_minor": 2
}
